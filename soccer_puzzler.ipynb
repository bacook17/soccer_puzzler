{
 "cells": [
  {
   "cell_type": "markdown",
   "metadata": {
    "toc": true
   },
   "source": [
    "<h1>Table of Contents<span class=\"tocSkip\"></span></h1>\n",
    "<div class=\"toc\"><ul class=\"toc-item\"><li><span><a href=\"#Ben-Cook\" data-toc-modified-id=\"Ben-Cook-1\">Ben Cook</a></span></li><li><span><a href=\"#(bcook@cfa.harvard.edu)\" data-toc-modified-id=\"(bcook@cfa.harvard.edu)-2\">(bcook@cfa.harvard.edu)</a></span></li></ul></div>"
   ]
  },
  {
   "cell_type": "markdown",
   "metadata": {},
   "source": [
    "### Ben Cook\n",
    "### (bcook@cfa.harvard.edu)"
   ]
  },
  {
   "cell_type": "markdown",
   "metadata": {},
   "source": [
    "Teams A, B, C, D\n",
    "\n",
    "Games \n",
    "\n",
    "0 : A-B\n",
    "\n",
    "1 : C-D\n",
    "\n",
    "2 : A-C\n",
    "\n",
    "3 : B-D\n",
    "\n",
    "4 : A-D\n",
    "\n",
    "5 : B-C\n",
    "\n",
    "Results\n",
    "\n",
    "0 : first team wins\n",
    "\n",
    "1 : tie\n",
    "\n",
    "2 : second team wins"
   ]
  },
  {
   "cell_type": "code",
   "execution_count": 4,
   "metadata": {
    "collapsed": true
   },
   "outputs": [],
   "source": [
    "import numpy as np"
   ]
  },
  {
   "cell_type": "code",
   "execution_count": 25,
   "metadata": {
    "collapsed": true
   },
   "outputs": [],
   "source": [
    "# the team ID of home/away team for each match\n",
    "matchups = [[0,1], [2,3], [0,2], [1,3], [0,3], [1,2]]\n",
    "\n",
    "# results are an input array of 6 integers [0,1,2] representing who won each of the \n",
    "# 6 group-round matchups\n",
    "def get_score(results, verbose=False):\n",
    "    assert(len(results) == 6)\n",
    "    #all teams begin with zero points\n",
    "    score = [0,0,0,0]\n",
    "    for i, r in enumerate(results):\n",
    "        #which team was home/away\n",
    "        H, A = matchups[i]\n",
    "        # a result of 0 means the Home team won\n",
    "        if r == 0:\n",
    "            if verbose:\n",
    "                print('Home wins')\n",
    "            score[H] += 3\n",
    "        # a result of 2 means the Away team won\n",
    "        elif r == 2:\n",
    "            if verbose:\n",
    "                print('Away wins')\n",
    "            score[A] += 3\n",
    "        # a result of 1 means a draw\n",
    "        else:\n",
    "            if verbose:\n",
    "                print('Draw')\n",
    "            score[A] += 1\n",
    "            score[H] += 1\n",
    "        if verbose:\n",
    "            #View the scores after each match, for testing\n",
    "            print(score)\n",
    "    return tuple(score)"
   ]
  },
  {
   "cell_type": "code",
   "execution_count": 26,
   "metadata": {},
   "outputs": [
    {
     "name": "stdout",
     "output_type": "stream",
     "text": [
      "[0 1 0 1 1 2]\n"
     ]
    }
   ],
   "source": [
    "np.random.seed(0)\n",
    "example = np.random.randint(low=0, high=3, size=6)\n",
    "print(example)"
   ]
  },
  {
   "cell_type": "markdown",
   "metadata": {},
   "source": [
    "In this example, the results are:\n",
    "\n",
    "[Home Win, Draw, Home Win, Draw, Draw, Away Win]\n",
    "\n",
    "Converting by who played which game:\n",
    "\n",
    "[A Win, Draw (C-D), A Win, Draw (B-D), Draw (A-D), C Win]\n",
    "\n",
    "Therefore, we should expect scores of:\n",
    "\n",
    "[7, 1, 4, 3]"
   ]
  },
  {
   "cell_type": "code",
   "execution_count": 27,
   "metadata": {},
   "outputs": [
    {
     "name": "stdout",
     "output_type": "stream",
     "text": [
      "Home wins\n",
      "[3, 0, 0, 0]\n",
      "Draw\n",
      "[3, 0, 1, 1]\n",
      "Home wins\n",
      "[6, 0, 1, 1]\n",
      "Draw\n",
      "[6, 1, 1, 2]\n",
      "Draw\n",
      "[7, 1, 1, 3]\n",
      "Away wins\n",
      "[7, 1, 4, 3]\n"
     ]
    },
    {
     "data": {
      "text/plain": [
       "(7, 1, 4, 3)"
      ]
     },
     "execution_count": 27,
     "metadata": {},
     "output_type": "execute_result"
    }
   ],
   "source": [
    "get_score(example, verbose=True)"
   ]
  },
  {
   "cell_type": "code",
   "execution_count": 29,
   "metadata": {
    "collapsed": true
   },
   "outputs": [],
   "source": [
    "# Brute-force method\n",
    "# There are 3^6 = 729 possible combinations of match outcomes\n",
    "\n",
    "# We want to know how many _unique_ final score combinations\n",
    "# A set collects only unique inputs!\n",
    "# Collect all possible score combinations in a set\n",
    "all_scores = set()\n",
    "for i in range(3):\n",
    "    for j in range(3):\n",
    "        for k in range(3):\n",
    "            for m in range(3):\n",
    "                for n in range(3):\n",
    "                    for o in range(3):\n",
    "                        all_scores.add(get_score([i, j, k, m, n, o]))"
   ]
  },
  {
   "cell_type": "code",
   "execution_count": 32,
   "metadata": {},
   "outputs": [
    {
     "data": {
      "text/plain": [
       "(556, 729)"
      ]
     },
     "execution_count": 32,
     "metadata": {},
     "output_type": "execute_result"
    }
   ],
   "source": [
    "len(all_scores)"
   ]
  },
  {
   "cell_type": "markdown",
   "metadata": {},
   "source": [
    "There are 556 unique combinations of scores!"
   ]
  }
 ],
 "metadata": {
  "kernelspec": {
   "display_name": "Python 3",
   "language": "python",
   "name": "python3"
  },
  "language_info": {
   "codemirror_mode": {
    "name": "ipython",
    "version": 3
   },
   "file_extension": ".py",
   "mimetype": "text/x-python",
   "name": "python",
   "nbconvert_exporter": "python",
   "pygments_lexer": "ipython3",
   "version": "3.6.3"
  },
  "toc": {
   "nav_menu": {},
   "number_sections": false,
   "sideBar": true,
   "skip_h1_title": false,
   "title_cell": "Table of Contents",
   "title_sidebar": "Contents",
   "toc_cell": true,
   "toc_position": {},
   "toc_section_display": true,
   "toc_window_display": true
  }
 },
 "nbformat": 4,
 "nbformat_minor": 2
}
